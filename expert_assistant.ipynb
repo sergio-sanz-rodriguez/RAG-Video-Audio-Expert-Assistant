{
 "cells": [
  {
   "cell_type": "markdown",
   "id": "dfe37963-1af6-44fc-a841-8e462443f5e6",
   "metadata": {},
   "source": [
    "# Expert Knowledge Worker\n",
    "\n",
    "### A question answering agent that is an expert knowledge worker\n",
    "### To be used by employees of Insurellm, an Insurance Tech company\n",
    "### The agent needs to be accurate and the solution should be low cost.\n",
    "\n",
    "This project will use RAG (Retrieval Augmented Generation) to ensure our question/answering assistant has high accuracy.\n",
    "\n",
    "This first implementation will use a simple, brute-force type of RAG.."
   ]
  },
  {
   "cell_type": "markdown",
   "id": "935cdbce",
   "metadata": {},
   "source": [
    "## 1. Importing Libraries"
   ]
  },
  {
   "cell_type": "code",
   "execution_count": 1,
   "id": "7bac903e",
   "metadata": {},
   "outputs": [],
   "source": [
    "#!pip install --upgrade langchain\n",
    "#!pip install -U langchain-community\n",
    "#!pip install --upgrade transformers\n",
    "#!pip install -U langchain-huggingface\n",
    "#!pip install cryptography\n",
    "#!pip install colorlog\n",
    "#!pip install hf_xet"
   ]
  },
  {
   "cell_type": "code",
   "execution_count": 2,
   "id": "ba2779af-84ef-4227-9e9e-6eaf0df87e77",
   "metadata": {},
   "outputs": [],
   "source": [
    "# imports\n",
    "\n",
    "import os\n",
    "import subprocess\n",
    "import requests\n",
    "import time\n",
    "import queue\n",
    "import html\n",
    "import psutil\n",
    "import GPUtil\n",
    "import winreg\n",
    "import gradio as gr\n",
    "import matplotlib.pyplot as plt\n",
    "import matplotlib as mpl\n",
    "from llm_chains import CustomLangChain, VectorEmbedding, Talker, Whisper, OllamaService, setup_logger\n",
    "from dotenv import load_dotenv\n",
    "from huggingface_hub import login\n",
    "from openai import OpenAI\n",
    "from io import BytesIO\n",
    "from pydub import AudioSegment\n",
    "from pydub.playback import play\n",
    "from ansi2html import Ansi2HTMLConverter\n",
    "from collections import deque\n",
    "\n",
    "\n",
    "load_dotenv(override=True)\n",
    "os.environ['OPENAI_API_KEY'] = os.getenv('OPENAI_API_KEY', 'your-key-if-not-using-env')\n",
    "os.environ['HF_TOKEN'] = os.getenv('HF_TOKEN', 'your-key-if-not-using-env')\n",
    "#login(os.environ['HF_TOKEN'], add_to_git_credential=True)\n",
    "os.environ['HUGGINGFACEHUB_API_TOKEN'] = os.environ['HF_TOKEN']\n",
    "\n",
    "openai_api_key = os.getenv('OPENAI_API_KEY')\n",
    "MODEL_GPT = \"gpt-4o-mini\""
   ]
  },
  {
   "cell_type": "code",
   "execution_count": 3,
   "id": "ce1048d8",
   "metadata": {},
   "outputs": [
    {
     "name": "stdout",
     "output_type": "stream",
     "text": [
      "Device: cuda\n",
      "Fri Jul 25 22:36:53 2025       \n",
      "+-----------------------------------------------------------------------------------------+\n",
      "| NVIDIA-SMI 576.88                 Driver Version: 576.88         CUDA Version: 12.9     |\n",
      "|-----------------------------------------+------------------------+----------------------+\n",
      "| GPU  Name                  Driver-Model | Bus-Id          Disp.A | Volatile Uncorr. ECC |\n",
      "| Fan  Temp   Perf          Pwr:Usage/Cap |           Memory-Usage | GPU-Util  Compute M. |\n",
      "|                                         |                        |               MIG M. |\n",
      "|=========================================+========================+======================|\n",
      "|   0  NVIDIA GeForce RTX 4070      WDDM  |   00000000:01:00.0  On |                  N/A |\n",
      "|  0%   56C    P8             11W /  200W |     907MiB /  12282MiB |      6%      Default |\n",
      "|                                         |                        |                  N/A |\n",
      "+-----------------------------------------+------------------------+----------------------+\n",
      "                                                                                         \n",
      "+-----------------------------------------------------------------------------------------+\n",
      "| Processes:                                                                              |\n",
      "|  GPU   GI   CI              PID   Type   Process name                        GPU Memory |\n",
      "|        ID   ID                                                               Usage      |\n",
      "|=========================================================================================|\n",
      "|    0   N/A  N/A            2028    C+G   ...5n1h2txyewy\\TextInputHost.exe      N/A      |\n",
      "|    0   N/A  N/A            2316    C+G   ...ms\\Microsoft VS Code\\Code.exe      N/A      |\n",
      "|    0   N/A  N/A            4864    C+G   ...4__w1wdnht996qgy\\LinkedIn.exe      N/A      |\n",
      "|    0   N/A  N/A            5816    C+G   ...8bbwe\\PhoneExperienceHost.exe      N/A      |\n",
      "|    0   N/A  N/A            6420    C+G   ...AcrobatNotificationClient.exe      N/A      |\n",
      "|    0   N/A  N/A            7572    C+G   ...indows\\System32\\ShellHost.exe      N/A      |\n",
      "|    0   N/A  N/A            9672    C+G   ...yb3d8bbwe\\WindowsTerminal.exe      N/A      |\n",
      "|    0   N/A  N/A           11080    C+G   ...ntrolPanel\\SystemSettings.exe      N/A      |\n",
      "|    0   N/A  N/A           13784    C+G   ...4__cv1g1gvanyjgm\\WhatsApp.exe      N/A      |\n",
      "|    0   N/A  N/A           14232    C+G   ...4__8wekyb3d8bbwe\\Video.UI.exe      N/A      |\n",
      "|    0   N/A  N/A           15204    C+G   ...IA App\\CEF\\NVIDIA Overlay.exe      N/A      |\n",
      "|    0   N/A  N/A           15828    C+G   ...IA App\\CEF\\NVIDIA Overlay.exe      N/A      |\n",
      "|    0   N/A  N/A           17364    C+G   ...Chrome\\Application\\chrome.exe      N/A      |\n",
      "|    0   N/A  N/A           18784    C+G   ...t\\Edge\\Application\\msedge.exe      N/A      |\n",
      "|    0   N/A  N/A           19796    C+G   ...m\\111.0.2.0\\GoogleDriveFS.exe      N/A      |\n",
      "|    0   N/A  N/A           20492    C+G   ...em32\\ApplicationFrameHost.exe      N/A      |\n",
      "|    0   N/A  N/A           20960    C+G   ...Chrome\\Application\\chrome.exe      N/A      |\n",
      "|    0   N/A  N/A           22008    C+G   ...y\\StartMenuExperienceHost.exe      N/A      |\n",
      "|    0   N/A  N/A           22680    C+G   ....0.3351.95\\msedgewebview2.exe      N/A      |\n",
      "|    0   N/A  N/A           25200    C+G   ....0.3351.95\\msedgewebview2.exe      N/A      |\n",
      "|    0   N/A  N/A           27708    C+G   ...xyewy\\ShellExperienceHost.exe      N/A      |\n",
      "|    0   N/A  N/A           27856    C+G   ..._cw5n1h2txyewy\\SearchHost.exe      N/A      |\n",
      "|    0   N/A  N/A           28328    C+G   C:\\Windows\\explorer.exe               N/A      |\n",
      "+-----------------------------------------------------------------------------------------+\n"
     ]
    }
   ],
   "source": [
    "# Set device\n",
    "device = \"cuda\" # if torch.cuda.is_available() else \"cpu\"\n",
    "print(f\"Device: {device}\")\n",
    "\n",
    "if device == \"cuda\":\n",
    "    !nvidia-smi\n",
    "\n",
    "import torch\n",
    "torch.cuda.empty_cache()\n",
    "torch.cuda.ipc_collect()"
   ]
  },
  {
   "cell_type": "markdown",
   "id": "5a0a5563",
   "metadata": {},
   "source": [
    "## 2. Creating/Loading Vectorstore"
   ]
  },
  {
   "cell_type": "code",
   "execution_count": 4,
   "id": "db0622b8",
   "metadata": {},
   "outputs": [
    {
     "name": "stderr",
     "output_type": "stream",
     "text": [
      "<span style=\"color:forestgreen; font-weight:bold;\">[INFO]</span> Set cuda device.\n",
      "<span style=\"color:forestgreen; font-weight:bold;\">[INFO]</span> Using Hugging Face model: BAAI/bge-large-en.\n",
      "<span style=\"color:forestgreen; font-weight:bold;\">[INFO]</span> Loading vectorstore...\n",
      "<span style=\"color:forestgreen; font-weight:bold;\">[INFO]</span> Vectorstore loaded with 100630 documents and 100,630 vectors with 1,024 dimensions.\n"
     ]
    }
   ],
   "source": [
    "# Path containing the knowledge database\n",
    "FOLDER_PATH = r\"D:\\Technical_Documents\\Papers\\technical_documents\"\n",
    "\n",
    "# Target vectorstore path\n",
    "DB_NAME = \"vector_db_1024\"\n",
    "EMBEDDING_MODEL = \"huggingface_1024\"\n",
    "\n",
    "# Instantiate vector embedding\n",
    "vector_embedding = VectorEmbedding(    \n",
    "    device=device,\n",
    "    log_level='info',\n",
    ")\n",
    "\n",
    "if os.path.isdir(DB_NAME):\n",
    "    # Exeture this code if the vectorstore has already been created\n",
    "    vectorstore = vector_embedding.load_vectorstore(\n",
    "        vector_db_name = DB_NAME,\n",
    "        embedding_model = EMBEDDING_MODEL,\n",
    "        )\n",
    "else:\n",
    "    # Execute this code to generate the vectorstore, the database with the vectorized documents\n",
    "    vector_embedding.split_into_chunks(\n",
    "        document_path = FOLDER_PATH,\n",
    "        chunk_size=1000,\n",
    "        chunk_overlap=300,\n",
    "        clean_text_flag=True,\n",
    "    )\n",
    "    \n",
    "    vectorstore = vector_embedding.create_vectorstore(\n",
    "        vector_db_name = DB_NAME,\n",
    "        embedding_model = EMBEDDING_MODEL,\n",
    "    )"
   ]
  },
  {
   "cell_type": "markdown",
   "id": "1fbf0ed1",
   "metadata": {},
   "source": [
    "* Using Hugging Face model: BAAI/bge-large-en\n",
    "* Processed documents: >26,000\n",
    "* Total number of chunks: 100,630 of 1,024 dimensions"
   ]
  },
  {
   "cell_type": "markdown",
   "id": "e85f36ed",
   "metadata": {},
   "source": [
    "## 3. Visualizing the Database"
   ]
  },
  {
   "cell_type": "code",
   "execution_count": 5,
   "id": "b772a8d5",
   "metadata": {},
   "outputs": [],
   "source": [
    "# This method projects the vectorstore into 2D and clusters the samples using K-means.\n",
    "#vector_embedding.visualize_2d_cluster(\n",
    "#        n_clusters=20,\n",
    "#        pt_size=5,        \n",
    "#        cmap='jet',\n",
    "#        seed=42)"
   ]
  },
  {
   "cell_type": "code",
   "execution_count": 6,
   "id": "e3587d01",
   "metadata": {},
   "outputs": [],
   "source": [
    "# This methos also project the vectorstore into 2D and classifies the samples according to the folder structure given in the knowledge database\n",
    "#vector_embedding.visualize_2d(\n",
    "#    figsize=(11, 7),\n",
    "#    cmap='hsv',\n",
    "#    background='white',\n",
    "#    pt_size=5,\n",
    "#    marker='o',\n",
    "#    legend_fontsize='small',\n",
    "#    legend_loc='outside right center',\n",
    "#    seed=42)"
   ]
  },
  {
   "cell_type": "markdown",
   "id": "67b3bdb7",
   "metadata": {},
   "source": [
    "## 4. Creating Agents"
   ]
  },
  {
   "cell_type": "code",
   "execution_count": 7,
   "id": "3054a60d",
   "metadata": {},
   "outputs": [],
   "source": [
    "\n",
    "# Instatiate agents\n",
    "openai_client = OpenAI()\n",
    "talker_agent = None\n",
    "whisper_agent = None\n",
    "log_queue = queue.Queue()\n",
    "logger = setup_logger(log_queue=log_queue, level=\"info\")\n",
    "conv = Ansi2HTMLConverter()\n",
    "cpu_history = deque(maxlen=60)\n",
    "gpu_history = deque(maxlen=60)\n",
    "#timestamps = deque(maxlen=60)\n",
    "window_size = 30  # seconds (or data points)\n",
    "cpu_history = deque([0]*window_size, maxlen=window_size)\n",
    "gpu_history = deque([0]*window_size, maxlen=window_size)\n",
    "time_history = deque(range(-window_size + 1, 1), maxlen=window_size)\n",
    "\n",
    "def get_talker_agent():\n",
    "    global talker_agent\n",
    "    if talker_agent is None:\n",
    "        talker_agent = Talker(openai_client)\n",
    "    return talker_agent\n",
    "\n",
    "def get_whisper_agent():\n",
    "    global whisper_agent\n",
    "    if whisper_agent is None:\n",
    "        whisper_agent = Whisper(openai_client)\n",
    "    return whisper_agent\n",
    "\n",
    "def handle_audio(audio_path):\n",
    "    whisper = get_whisper_agent()\n",
    "    return whisper.transcribe(audio_path)\n",
    "\n",
    "def handle_speech(text, voice):\n",
    "    talker = get_talker_agent()\n",
    "    talker.voice = voice  # change voice dynamically\n",
    "    talker.speak(text)\n",
    "\n",
    "def initialize_chain(model, tone, mode, lang_chain_state):\n",
    "\n",
    "    # Build LangChain\n",
    "    if (\n",
    "        lang_chain_state is None\n",
    "        or lang_chain_state[\"model\"] != model\n",
    "        or lang_chain_state[\"tone\"] != tone\n",
    "        or lang_chain_state[\"mode\"] != mode\n",
    "    ):\n",
    "        chain = CustomLangChain(\n",
    "            openai_client=openai_client,\n",
    "            model_name=model,\n",
    "            tone=tone,\n",
    "            mode=mode,\n",
    "            top_docs=15,\n",
    "            vectorstore=vectorstore,\n",
    "            log_level='info',\n",
    "            logger=logger,\n",
    "        )\n",
    "        return {\"chain\": chain, \"model\": model, \"tone\": tone, \"mode\": mode}\n",
    "    return lang_chain_state\n",
    "\n",
    "# User's question\n",
    "def question_fn(question, history):\n",
    "\n",
    "    # Initialize history if None\n",
    "    history = history or []\n",
    "\n",
    "    # Append new messages\n",
    "    history.append({\"role\": \"user\", \"content\": question})\n",
    "\n",
    "    return history, history, \"\"\n",
    "\n",
    "# This function will be triggered by the chat interface\n",
    "def answer_fn(history, model, tone, mode, lang_chain_state):\n",
    "\n",
    "    # History is empty or malformed\n",
    "    if not history or not isinstance(history, list) or \"content\" not in history[-1]: \n",
    "        return history or [], \"Sorry, I couldn't find your question.\", lang_chain_state\n",
    "    question = history[-1][\"content\"]\n",
    "    lang_chain_state = initialize_chain(model, tone, mode, lang_chain_state)    \n",
    "    lang_chain = lang_chain_state[\"chain\"]\n",
    "    answer = lang_chain.answer_question(question, history)\n",
    "    \n",
    "    # Append new messages\n",
    "    history.append({\"role\": \"assistant\", \"content\": answer})  #history.append({\"role\": \"user\", \"content\": question})\n",
    "\n",
    "    return history, answer, lang_chain_state\n",
    "\n",
    "# Other functions\n",
    "\n",
    "def clear_chat():\n",
    "    return [], [], \"\", None # Also reset the LangChain object\n",
    "\n",
    "def reset_mic_input():\n",
    "    mic = gr.Audio(value=None, label=\"🎙️ Speak\", type=\"filepath\", interactive=True, sources=['microphone']) \n",
    "    return mic\n",
    "\n",
    "def toggle_audio(audio_flag):\n",
    "    new_state = not audio_flag\n",
    "    button_label = \"🔈 Enable Audio\" if not new_state else \"🔇 Disable Audio\"\n",
    "    return (\n",
    "        gr.update(interactive=new_state),  # mic_input\n",
    "        button_label,\n",
    "        new_state\n",
    "    )\n",
    "\n",
    "def detect_llms(include_openai=True):\n",
    "    import re\n",
    "    models = []\n",
    "\n",
    "    # Detect local Ollama models\n",
    "    ollama_service = OllamaService(logger=logger)\n",
    "    ollama_service.activate()\n",
    "\n",
    "    x = !ollama list\n",
    "    x = list(x)\n",
    "    x = [re.split(r'\\s{2,}', row.strip()) for row in x]\n",
    "    ollama_models = [row[0] for row in x if row][1:]  # Skip header\n",
    "    models.extend([(model, model) for model in ollama_models])\n",
    "\n",
    "    # Add OpenAI models manually\n",
    "    if include_openai:\n",
    "        openai_models = [            \n",
    "            (\"gpt-4o\", \"gpt-4o\"),\n",
    "            (\"gpt-4o-mini\", \"gpt-4o-mini\"),            \n",
    "        ]\n",
    "        models.extend(openai_models)\n",
    "\n",
    "    return models\n",
    "\n",
    "def stream_logs():\n",
    "    buffer = \"\"\n",
    "    while True:\n",
    "        try:\n",
    "            while True:\n",
    "                log = log_queue.get_nowait()\n",
    "                #log = conv.convert(log, full=False)\n",
    "                buffer += log + \"<br>\" #\"\\n\"\n",
    "        except queue.Empty:\n",
    "            pass\n",
    "        #yield f\"<pre>{buffer}</pre>\"        \n",
    "        yield f\"<pre style='font-family: monospace;'>{buffer}</pre>\"\n",
    "        time.sleep(1)\n",
    "\n",
    "def is_dark_mode_enabled():\n",
    "    try:\n",
    "        key = winreg.OpenKey(winreg.HKEY_CURRENT_USER,\n",
    "            r\"Software\\Microsoft\\Windows\\CurrentVersion\\Themes\\Personalize\")\n",
    "        value, _ = winreg.QueryValueEx(key, \"AppsUseLightTheme\")\n",
    "        return value == 0  # 0 = dark mode\n",
    "    except:\n",
    "        return False  # default fallback\n",
    "    \n",
    "def get_stats():\n",
    "    fontsize = 14\n",
    "    cpu = psutil.cpu_percent()\n",
    "    gpus = GPUtil.getGPUs()\n",
    "    gpu = gpus[0].load * 100 if gpus else 0\n",
    "\n",
    "    # FIFO update\n",
    "    cpu_history.append(cpu)\n",
    "    gpu_history.append(gpu)\n",
    "    time_history.append(time_history[-1] + 1)\n",
    "\n",
    "    # Keep same window size for all\n",
    "    for hist in (cpu_history, gpu_history, time_history):\n",
    "        if len(hist) > window_size:\n",
    "            del hist[:len(hist) - window_size]\n",
    "\n",
    "    # Detect current theme (Gradio inherits OS theme)\n",
    "    is_dark = is_dark_mode_enabled()\n",
    "    bg_color = \"#0b0f19\" if is_dark else \"#FFFFFF\"\n",
    "    fg_color = \"#f0f0f0\" if is_dark else \"#000000\"\n",
    "\n",
    "    # Plot\n",
    "    fig, ax = plt.subplots(figsize=(8,4))\n",
    "    fig.patch.set_facecolor(bg_color)\n",
    "    ax.grid()\n",
    "    ax.set_facecolor(bg_color)\n",
    "    ax.tick_params(colors=fg_color)\n",
    "    ax.yaxis.label.set_color(fg_color)\n",
    "    ax.xaxis.label.set_color(fg_color)\n",
    "    for spine in ax.spines.values():\n",
    "        spine.set_edgecolor(fg_color)\n",
    "    ax.plot(time_history, cpu_history, label=\"CPU Util.\", color=\"deepskyblue\", linewidth=2)\n",
    "    ax.plot(time_history, gpu_history, label=\"GPU Util.\", color=\"magenta\", linewidth=2)\n",
    "    ax.set_ylim(0, 100)\n",
    "    ax.set_xticks([])\n",
    "    ax.set_ylabel(\"Percentage [%]\", fontsize=fontsize)\n",
    "    ax.set_xlabel(\"Time\", fontsize=fontsize)    \n",
    "    legend = ax.legend(\n",
    "        loc='upper center',\n",
    "        bbox_to_anchor=(0.5, 1.15),\n",
    "        ncol=2,\n",
    "        fontsize=fontsize,\n",
    "        frameon=False\n",
    "        )\n",
    "    frame = legend.get_frame()\n",
    "    frame.set_facecolor(bg_color)\n",
    "    frame.set_edgecolor(fg_color)\n",
    "    for text in legend.get_texts():\n",
    "        text.set_color(fg_color)\n",
    "\n",
    "    return fig\n",
    "\n",
    "def live_plot():\n",
    "    while True:\n",
    "        yield get_stats()\n",
    "        time.sleep(1)"
   ]
  },
  {
   "cell_type": "markdown",
   "id": "1d4a447d",
   "metadata": {},
   "source": [
    "# 5. Creating the Expert Assistant"
   ]
  },
  {
   "cell_type": "code",
   "execution_count": 8,
   "id": "47b69bf9",
   "metadata": {},
   "outputs": [
    {
     "name": "stderr",
     "output_type": "stream",
     "text": [
      "<span style=\"color:forestgreen; font-weight:bold;\">[INFO]</span> Starting Ollama server...\n",
      "<span style=\"color:forestgreen; font-weight:bold;\">[INFO]</span> Ollama is now running.\n"
     ]
    },
    {
     "name": "stdout",
     "output_type": "stream",
     "text": [
      "* Running on local URL:  http://127.0.0.1:7860\n",
      "* To create a public link, set `share=True` in `launch()`.\n"
     ]
    },
    {
     "data": {
      "text/plain": []
     },
     "execution_count": 8,
     "metadata": {},
     "output_type": "execute_result"
    }
   ],
   "source": [
    "import gradio as gr\n",
    "\n",
    "# Default model\n",
    "MODEL_OPTIONS = detect_llms()\n",
    "\n",
    "TONE_OPTIONS = [\n",
    "    (\"😀 Formal\", \"formal\"),\n",
    "    (\"😎 Casual\", \"casual\"),\n",
    "    (\"😊 Friendly\", \"friendly\"),\n",
    "    (\"🥰 Sweet\", \"sweet & lovely\"),\n",
    "    (\"😏 Sarcastic\", \"sarcastic\"),\n",
    "    (\"😜 Snarky\", \"snarky\"),\n",
    "    (\"😤 Impatient\", \"impatient\"),\n",
    "    (\"😒 Condescending\", \"condescending\"),\n",
    "    (\"😡 Disrespectful\", \"disrespectful\"),\n",
    "]\n",
    "\n",
    "VOICE_OPTIONS = [\n",
    "    (\"👨‍🦰 Onyx (Male - Deep, calm)\", \"onyx\"),\n",
    "    (\"👨‍🦱 Echo (Male - Crisp, energetic)\", \"echo\"),\n",
    "    (\"👨‍🦲 Alloy (Male - Friendly, upbeat)\", \"alloy\"),\n",
    "    (\"👩‍🦰 Fable (Female - Warm, storytelling)\", \"fable\"),\n",
    "    (\"👩‍🦳 Nova (Female - Clear, bright)\", \"nova\"),\n",
    "    (\"👩‍🦱 Shimmer (Female - Smooth, soft)\", \"shimmer\"),\n",
    "]\n",
    "\n",
    "TEMPERATURE_OPTIONS = [\n",
    "    (\"🧠 Precise, deterministic answer\", \"conservative\"),\n",
    "    (\"🎨 Creative, imaginative answer\", \"creative\")\n",
    "]\n",
    "\n",
    "\n",
    "# Create the interface with a radio input\n",
    "with gr.Blocks(\n",
    "    theme=gr.themes.Origin(),\n",
    "    css=\"\"\"\n",
    "    #log_output {\n",
    "    height: 240px;\n",
    "    overflow-y: auto;\n",
    "    border: 1px solid black;\n",
    "    font-family: monospace;\n",
    "    white-space: pre-wrap;\n",
    "    }\n",
    "\n",
    "    /* Hide the theme toggle button */\n",
    "    .gr-theme-toggle,\n",
    "    .gr-theme-toggle * {\n",
    "        all: unset !important;\n",
    "        display: none !important;\n",
    "        width: 0 !important;\n",
    "        height: 0 !important;\n",
    "        overflow: hidden !important;\n",
    "        pointer-events: none !important;\n",
    "        visibility: hidden !important;\n",
    "        margin: 0 !important;\n",
    "        padding: 0 !important;\n",
    "    }\n",
    "\n",
    "    .gr-box > .gr-prose > label:has-text(\"Plot\") {\n",
    "        display: none !important;\n",
    "    }\n",
    "    \"\"\") as ui:     \n",
    "\n",
    "    gr.Markdown(\"# 🎥 Video/Audio Tech Expert Assistant\")\n",
    "    \n",
    "    with gr.Row():\n",
    "\n",
    "        # Chat box\n",
    "        chatbot = gr.Chatbot(label=\" \", height=300, type=\"messages\")\n",
    "\n",
    "    with gr.Row():\n",
    "\n",
    "        # User input box\n",
    "        user_input = gr.Textbox(label=\"📝 Write your message\", placeholder=\"Type your message here and press Enter.\")\n",
    "    \n",
    "    with gr.Row():\n",
    "\n",
    "        # Reset Button\n",
    "        clear_btn = gr.Button(\"🔄 Clear Chat\")\n",
    "        disable_audio_btn = gr.Button(\"🔈 Enable Audio\")\n",
    "\n",
    "    with gr.Row():\n",
    "        \n",
    "        # Mode selector\n",
    "        model_selector = gr.Dropdown(\n",
    "            choices=MODEL_OPTIONS,\n",
    "            value='qwen3:8b' if 'qwen3:8b' in [name for name, _ in MODEL_OPTIONS] else MODEL_OPTIONS[0][0],\n",
    "            label=\"🤖 Select Language model\"\n",
    "        )\n",
    "\n",
    "        # Tone selector\n",
    "        tone_selector = gr.Dropdown(\n",
    "            choices=TONE_OPTIONS,  \n",
    "            value=\"formal\",\n",
    "            label=\"🎭Select Tone\"\n",
    "        )\n",
    "\n",
    "        temperature_selector = gr.Dropdown(\n",
    "            choices=TEMPERATURE_OPTIONS,\n",
    "            value=\"conservative\",\n",
    "            label=\"🗣️ Select Response Mode\"\n",
    "        )\n",
    "\n",
    "        voice_selector = gr.Dropdown(\n",
    "            choices=VOICE_OPTIONS,\n",
    "            value=\"onyx\",\n",
    "            label=\"🎤 Assistant Voice\"\n",
    "        )\n",
    "        \n",
    "        # Mic input\n",
    "        mic_input = gr.Audio(label=\"🎙️ Speak\", type=\"filepath\", interactive=True, sources=['microphone'])\n",
    "    \n",
    "    with gr.Row():\n",
    "\n",
    "        # Logger        \n",
    "        log_output = gr.HTML(elem_id=\"log_output\")            \n",
    "        ui.load(fn=stream_logs, inputs=[], outputs=log_output)\n",
    "\n",
    "        # CPU and GPU utilization\n",
    "        with gr.Column():            \n",
    "            plot_output = gr.Plot(label=\" \")\n",
    "        ui.load(fn=live_plot, inputs=[], outputs=plot_output)\n",
    "    \n",
    "\n",
    "    #aux = gr.Textbox(visible=False)\n",
    "    lang_chain_state = gr.State({\n",
    "        \"chain\": None,\n",
    "        \"model\": None,\n",
    "        \"tone\": None,\n",
    "        \"mode\": None,\n",
    "    })\n",
    "    history_state = gr.State([])\n",
    "    answer_state = gr.State([]) #gr.Textbox(visible=False)\n",
    "    audio_enabled = gr.State(False)\n",
    "    #theme_toggle = gr.Checkbox(label=\"Dark Theme\", value=True)\n",
    "\n",
    "    # When user submits by typing\n",
    "    user_input.submit(\n",
    "        fn=question_fn,\n",
    "        inputs=[user_input, history_state],\n",
    "        outputs=[chatbot, history_state, user_input]\n",
    "    ).then(\n",
    "        fn=answer_fn,\n",
    "        inputs=[history_state, model_selector, tone_selector, temperature_selector, lang_chain_state],\n",
    "        outputs=[chatbot, answer_state, lang_chain_state]\n",
    "    ).then(\n",
    "        fn=lambda answer, voice, enabled: handle_speech(answer, voice) if enabled else None,\n",
    "        inputs=[answer_state, voice_selector, audio_enabled],\n",
    "    ).then(\n",
    "        fn=reset_mic_input,\n",
    "        inputs=None,\n",
    "        outputs=mic_input\n",
    "    )\n",
    "\n",
    "    # When user speaks\n",
    "    mic_input.change(\n",
    "        fn=handle_audio,\n",
    "        inputs=mic_input,\n",
    "        outputs=user_input\n",
    "    )\n",
    "    \n",
    "    # Clear button action\n",
    "    clear_btn.click(\n",
    "        fn=clear_chat,\n",
    "        inputs=None,\n",
    "        outputs=[chatbot, history_state, user_input, lang_chain_state]\n",
    "    )\n",
    "\n",
    "    disable_audio_btn.click(\n",
    "        fn=toggle_audio,\n",
    "        inputs=[audio_enabled],\n",
    "        outputs=[mic_input, disable_audio_btn, audio_enabled]\n",
    "    )\n",
    "\n",
    "ui.launch(inbrowser=True, inline=False, height=1000)"
   ]
  },
  {
   "cell_type": "code",
   "execution_count": 9,
   "id": "0f186299",
   "metadata": {},
   "outputs": [
    {
     "data": {
      "application/vnd.plotly.v1+json": {
       "config": {
        "plotlyServerURL": "https://plot.ly"
       },
       "data": [
        {
         "cells": {
          "align": "center",
          "fill": {
           "color": [
            [
             "#0077B5",
             "#0077B5",
             "#0077B5",
             "#0077B5",
             "#0077B5",
             "#0077B5",
             "#0077B5"
            ],
            [
             "white",
             "white",
             "white",
             "white",
             "white",
             "white",
             "white"
            ],
            [
             "white",
             "white",
             "white",
             "white",
             "white",
             "white",
             "white"
            ]
           ]
          },
          "font": {
           "color": [
            [
             "white",
             "white",
             "white",
             "white",
             "white",
             "white",
             "white"
            ],
            [
             "black",
             "black",
             "black",
             "black",
             "black",
             "black",
             "black"
            ],
            [
             "black",
             "black",
             "black",
             "black",
             "black",
             "black",
             "black"
            ]
           ]
          },
          "line": {
           "color": "white",
           "width": 1
          },
          "values": [
           [
            "deepseek-r1:8b",
            "gemma3:4b",
            "gpt-4o-mini",
            "llama3:8b",
            "mistral:7b",
            "olmo2:7b",
            "qwen3:8b"
           ],
           [
            "VR/360° video",
            "AV1",
            "VVC",
            "VVC",
            "HEVC",
            "VVC",
            "VVC"
           ],
           [
            "AI-driven coding",
            "8K",
            "8K",
            "VVC",
            "VVC",
            "VVC",
            "AI-driven coding"
           ]
          ]
         },
         "columnwidth": [
          110,
          195,
          195
         ],
         "header": {
          "align": "center",
          "fill": {
           "color": [
            "white",
            "#0077B5",
            "#0077B5"
           ]
          },
          "font": {
           "color": [
            "white",
            "white",
            "white"
           ],
           "size": 12
          },
          "line": {
           "color": [
            "white",
            "white",
            "white"
           ],
           "width": 1
          },
          "values": [
           "",
           "1️⃣ RAG-Based Answer",
           "2️⃣ Internal Knowledge Answer"
          ]
         },
         "type": "table"
        }
       ],
       "layout": {
        "template": {
         "data": {
          "bar": [
           {
            "error_x": {
             "color": "#2a3f5f"
            },
            "error_y": {
             "color": "#2a3f5f"
            },
            "marker": {
             "line": {
              "color": "#E5ECF6",
              "width": 0.5
             },
             "pattern": {
              "fillmode": "overlay",
              "size": 10,
              "solidity": 0.2
             }
            },
            "type": "bar"
           }
          ],
          "barpolar": [
           {
            "marker": {
             "line": {
              "color": "#E5ECF6",
              "width": 0.5
             },
             "pattern": {
              "fillmode": "overlay",
              "size": 10,
              "solidity": 0.2
             }
            },
            "type": "barpolar"
           }
          ],
          "carpet": [
           {
            "aaxis": {
             "endlinecolor": "#2a3f5f",
             "gridcolor": "white",
             "linecolor": "white",
             "minorgridcolor": "white",
             "startlinecolor": "#2a3f5f"
            },
            "baxis": {
             "endlinecolor": "#2a3f5f",
             "gridcolor": "white",
             "linecolor": "white",
             "minorgridcolor": "white",
             "startlinecolor": "#2a3f5f"
            },
            "type": "carpet"
           }
          ],
          "choropleth": [
           {
            "colorbar": {
             "outlinewidth": 0,
             "ticks": ""
            },
            "type": "choropleth"
           }
          ],
          "contour": [
           {
            "colorbar": {
             "outlinewidth": 0,
             "ticks": ""
            },
            "colorscale": [
             [
              0,
              "#0d0887"
             ],
             [
              0.1111111111111111,
              "#46039f"
             ],
             [
              0.2222222222222222,
              "#7201a8"
             ],
             [
              0.3333333333333333,
              "#9c179e"
             ],
             [
              0.4444444444444444,
              "#bd3786"
             ],
             [
              0.5555555555555556,
              "#d8576b"
             ],
             [
              0.6666666666666666,
              "#ed7953"
             ],
             [
              0.7777777777777778,
              "#fb9f3a"
             ],
             [
              0.8888888888888888,
              "#fdca26"
             ],
             [
              1,
              "#f0f921"
             ]
            ],
            "type": "contour"
           }
          ],
          "contourcarpet": [
           {
            "colorbar": {
             "outlinewidth": 0,
             "ticks": ""
            },
            "type": "contourcarpet"
           }
          ],
          "heatmap": [
           {
            "colorbar": {
             "outlinewidth": 0,
             "ticks": ""
            },
            "colorscale": [
             [
              0,
              "#0d0887"
             ],
             [
              0.1111111111111111,
              "#46039f"
             ],
             [
              0.2222222222222222,
              "#7201a8"
             ],
             [
              0.3333333333333333,
              "#9c179e"
             ],
             [
              0.4444444444444444,
              "#bd3786"
             ],
             [
              0.5555555555555556,
              "#d8576b"
             ],
             [
              0.6666666666666666,
              "#ed7953"
             ],
             [
              0.7777777777777778,
              "#fb9f3a"
             ],
             [
              0.8888888888888888,
              "#fdca26"
             ],
             [
              1,
              "#f0f921"
             ]
            ],
            "type": "heatmap"
           }
          ],
          "histogram": [
           {
            "marker": {
             "pattern": {
              "fillmode": "overlay",
              "size": 10,
              "solidity": 0.2
             }
            },
            "type": "histogram"
           }
          ],
          "histogram2d": [
           {
            "colorbar": {
             "outlinewidth": 0,
             "ticks": ""
            },
            "colorscale": [
             [
              0,
              "#0d0887"
             ],
             [
              0.1111111111111111,
              "#46039f"
             ],
             [
              0.2222222222222222,
              "#7201a8"
             ],
             [
              0.3333333333333333,
              "#9c179e"
             ],
             [
              0.4444444444444444,
              "#bd3786"
             ],
             [
              0.5555555555555556,
              "#d8576b"
             ],
             [
              0.6666666666666666,
              "#ed7953"
             ],
             [
              0.7777777777777778,
              "#fb9f3a"
             ],
             [
              0.8888888888888888,
              "#fdca26"
             ],
             [
              1,
              "#f0f921"
             ]
            ],
            "type": "histogram2d"
           }
          ],
          "histogram2dcontour": [
           {
            "colorbar": {
             "outlinewidth": 0,
             "ticks": ""
            },
            "colorscale": [
             [
              0,
              "#0d0887"
             ],
             [
              0.1111111111111111,
              "#46039f"
             ],
             [
              0.2222222222222222,
              "#7201a8"
             ],
             [
              0.3333333333333333,
              "#9c179e"
             ],
             [
              0.4444444444444444,
              "#bd3786"
             ],
             [
              0.5555555555555556,
              "#d8576b"
             ],
             [
              0.6666666666666666,
              "#ed7953"
             ],
             [
              0.7777777777777778,
              "#fb9f3a"
             ],
             [
              0.8888888888888888,
              "#fdca26"
             ],
             [
              1,
              "#f0f921"
             ]
            ],
            "type": "histogram2dcontour"
           }
          ],
          "mesh3d": [
           {
            "colorbar": {
             "outlinewidth": 0,
             "ticks": ""
            },
            "type": "mesh3d"
           }
          ],
          "parcoords": [
           {
            "line": {
             "colorbar": {
              "outlinewidth": 0,
              "ticks": ""
             }
            },
            "type": "parcoords"
           }
          ],
          "pie": [
           {
            "automargin": true,
            "type": "pie"
           }
          ],
          "scatter": [
           {
            "fillpattern": {
             "fillmode": "overlay",
             "size": 10,
             "solidity": 0.2
            },
            "type": "scatter"
           }
          ],
          "scatter3d": [
           {
            "line": {
             "colorbar": {
              "outlinewidth": 0,
              "ticks": ""
             }
            },
            "marker": {
             "colorbar": {
              "outlinewidth": 0,
              "ticks": ""
             }
            },
            "type": "scatter3d"
           }
          ],
          "scattercarpet": [
           {
            "marker": {
             "colorbar": {
              "outlinewidth": 0,
              "ticks": ""
             }
            },
            "type": "scattercarpet"
           }
          ],
          "scattergeo": [
           {
            "marker": {
             "colorbar": {
              "outlinewidth": 0,
              "ticks": ""
             }
            },
            "type": "scattergeo"
           }
          ],
          "scattergl": [
           {
            "marker": {
             "colorbar": {
              "outlinewidth": 0,
              "ticks": ""
             }
            },
            "type": "scattergl"
           }
          ],
          "scattermap": [
           {
            "marker": {
             "colorbar": {
              "outlinewidth": 0,
              "ticks": ""
             }
            },
            "type": "scattermap"
           }
          ],
          "scattermapbox": [
           {
            "marker": {
             "colorbar": {
              "outlinewidth": 0,
              "ticks": ""
             }
            },
            "type": "scattermapbox"
           }
          ],
          "scatterpolar": [
           {
            "marker": {
             "colorbar": {
              "outlinewidth": 0,
              "ticks": ""
             }
            },
            "type": "scatterpolar"
           }
          ],
          "scatterpolargl": [
           {
            "marker": {
             "colorbar": {
              "outlinewidth": 0,
              "ticks": ""
             }
            },
            "type": "scatterpolargl"
           }
          ],
          "scatterternary": [
           {
            "marker": {
             "colorbar": {
              "outlinewidth": 0,
              "ticks": ""
             }
            },
            "type": "scatterternary"
           }
          ],
          "surface": [
           {
            "colorbar": {
             "outlinewidth": 0,
             "ticks": ""
            },
            "colorscale": [
             [
              0,
              "#0d0887"
             ],
             [
              0.1111111111111111,
              "#46039f"
             ],
             [
              0.2222222222222222,
              "#7201a8"
             ],
             [
              0.3333333333333333,
              "#9c179e"
             ],
             [
              0.4444444444444444,
              "#bd3786"
             ],
             [
              0.5555555555555556,
              "#d8576b"
             ],
             [
              0.6666666666666666,
              "#ed7953"
             ],
             [
              0.7777777777777778,
              "#fb9f3a"
             ],
             [
              0.8888888888888888,
              "#fdca26"
             ],
             [
              1,
              "#f0f921"
             ]
            ],
            "type": "surface"
           }
          ],
          "table": [
           {
            "cells": {
             "fill": {
              "color": "#EBF0F8"
             },
             "line": {
              "color": "white"
             }
            },
            "header": {
             "fill": {
              "color": "#C8D4E3"
             },
             "line": {
              "color": "white"
             }
            },
            "type": "table"
           }
          ]
         },
         "layout": {
          "annotationdefaults": {
           "arrowcolor": "#2a3f5f",
           "arrowhead": 0,
           "arrowwidth": 1
          },
          "autotypenumbers": "strict",
          "coloraxis": {
           "colorbar": {
            "outlinewidth": 0,
            "ticks": ""
           }
          },
          "colorscale": {
           "diverging": [
            [
             0,
             "#8e0152"
            ],
            [
             0.1,
             "#c51b7d"
            ],
            [
             0.2,
             "#de77ae"
            ],
            [
             0.3,
             "#f1b6da"
            ],
            [
             0.4,
             "#fde0ef"
            ],
            [
             0.5,
             "#f7f7f7"
            ],
            [
             0.6,
             "#e6f5d0"
            ],
            [
             0.7,
             "#b8e186"
            ],
            [
             0.8,
             "#7fbc41"
            ],
            [
             0.9,
             "#4d9221"
            ],
            [
             1,
             "#276419"
            ]
           ],
           "sequential": [
            [
             0,
             "#0d0887"
            ],
            [
             0.1111111111111111,
             "#46039f"
            ],
            [
             0.2222222222222222,
             "#7201a8"
            ],
            [
             0.3333333333333333,
             "#9c179e"
            ],
            [
             0.4444444444444444,
             "#bd3786"
            ],
            [
             0.5555555555555556,
             "#d8576b"
            ],
            [
             0.6666666666666666,
             "#ed7953"
            ],
            [
             0.7777777777777778,
             "#fb9f3a"
            ],
            [
             0.8888888888888888,
             "#fdca26"
            ],
            [
             1,
             "#f0f921"
            ]
           ],
           "sequentialminus": [
            [
             0,
             "#0d0887"
            ],
            [
             0.1111111111111111,
             "#46039f"
            ],
            [
             0.2222222222222222,
             "#7201a8"
            ],
            [
             0.3333333333333333,
             "#9c179e"
            ],
            [
             0.4444444444444444,
             "#bd3786"
            ],
            [
             0.5555555555555556,
             "#d8576b"
            ],
            [
             0.6666666666666666,
             "#ed7953"
            ],
            [
             0.7777777777777778,
             "#fb9f3a"
            ],
            [
             0.8888888888888888,
             "#fdca26"
            ],
            [
             1,
             "#f0f921"
            ]
           ]
          },
          "colorway": [
           "#636efa",
           "#EF553B",
           "#00cc96",
           "#ab63fa",
           "#FFA15A",
           "#19d3f3",
           "#FF6692",
           "#B6E880",
           "#FF97FF",
           "#FECB52"
          ],
          "font": {
           "color": "#2a3f5f"
          },
          "geo": {
           "bgcolor": "white",
           "lakecolor": "white",
           "landcolor": "#E5ECF6",
           "showlakes": true,
           "showland": true,
           "subunitcolor": "white"
          },
          "hoverlabel": {
           "align": "left"
          },
          "hovermode": "closest",
          "mapbox": {
           "style": "light"
          },
          "paper_bgcolor": "white",
          "plot_bgcolor": "#E5ECF6",
          "polar": {
           "angularaxis": {
            "gridcolor": "white",
            "linecolor": "white",
            "ticks": ""
           },
           "bgcolor": "#E5ECF6",
           "radialaxis": {
            "gridcolor": "white",
            "linecolor": "white",
            "ticks": ""
           }
          },
          "scene": {
           "xaxis": {
            "backgroundcolor": "#E5ECF6",
            "gridcolor": "white",
            "gridwidth": 2,
            "linecolor": "white",
            "showbackground": true,
            "ticks": "",
            "zerolinecolor": "white"
           },
           "yaxis": {
            "backgroundcolor": "#E5ECF6",
            "gridcolor": "white",
            "gridwidth": 2,
            "linecolor": "white",
            "showbackground": true,
            "ticks": "",
            "zerolinecolor": "white"
           },
           "zaxis": {
            "backgroundcolor": "#E5ECF6",
            "gridcolor": "white",
            "gridwidth": 2,
            "linecolor": "white",
            "showbackground": true,
            "ticks": "",
            "zerolinecolor": "white"
           }
          },
          "shapedefaults": {
           "line": {
            "color": "#2a3f5f"
           }
          },
          "ternary": {
           "aaxis": {
            "gridcolor": "white",
            "linecolor": "white",
            "ticks": ""
           },
           "baxis": {
            "gridcolor": "white",
            "linecolor": "white",
            "ticks": ""
           },
           "bgcolor": "#E5ECF6",
           "caxis": {
            "gridcolor": "white",
            "linecolor": "white",
            "ticks": ""
           }
          },
          "title": {
           "x": 0.05
          },
          "xaxis": {
           "automargin": true,
           "gridcolor": "white",
           "linecolor": "white",
           "ticks": "",
           "title": {
            "standoff": 15
           },
           "zerolinecolor": "white",
           "zerolinewidth": 2
          },
          "yaxis": {
           "automargin": true,
           "gridcolor": "white",
           "linecolor": "white",
           "ticks": "",
           "title": {
            "standoff": 15
           },
           "zerolinecolor": "white",
           "zerolinewidth": 2
          }
         }
        },
        "title": {
         "text": "Predicted High-Impact Video Technologies by LLMs",
         "x": 0.5
        }
       }
      }
     },
     "metadata": {},
     "output_type": "display_data"
    }
   ],
   "source": [
    "import pandas as pd\n",
    "import plotly.graph_objects as go\n",
    "\n",
    "df = pd.DataFrame({\n",
    "    '': ['deepseek-r1:8b', 'gemma3:4b', 'gpt-4o-mini', 'llama3:8b', 'mistral:7b', 'olmo2:7b', 'qwen3:8b'],\n",
    "    'Expert Database (RAG)': ['VR/360° video', 'AV1', 'VVC', 'VVC', 'HEVC', 'VVC', 'VVC'],\n",
    "    'Internal Knowledge': ['AI-driven coding', '8K', '8K', 'VVC', 'VVC', 'VVC', 'AI-driven coding']\n",
    "})\n",
    "df\n",
    "\n",
    "# Set top-left cell (first header) to empty\n",
    "df.columns = [\"\", \"1️⃣ RAG-Based Answer\", \"2️⃣ Internal Knowledge Answer\"]\n",
    "header_values = list(df.columns)\n",
    "header_values[0] = \"\"  # Blank top-left cell\n",
    "\n",
    "# Colors\n",
    "header_color = '#0077B5'\n",
    "first_col_color = header_color\n",
    "other_cells_color = 'white' #'gainsboro'\n",
    "\n",
    "# Fill colors per column (rows x cols structure for Plotly)\n",
    "cell_fill_colors = [\n",
    "    [first_col_color] * len(df),        # First column\n",
    "    [other_cells_color] * len(df),      # Second column\n",
    "    [other_cells_color] * len(df)       # Third column\n",
    "]\n",
    "\n",
    "# Font color per column\n",
    "cell_font_colors = [\n",
    "    ['white'] * len(df),\n",
    "    ['black'] * len(df),\n",
    "    ['black'] * len(df)\n",
    "]\n",
    "\n",
    "# Header fill colors — set first cell to white to hide it\n",
    "header_fill_colors = ['white', header_color, header_color]\n",
    "\n",
    "# Header font colors — set first cell to white to hide text\n",
    "header_font_colors = ['white', 'white', 'white']\n",
    "\n",
    "# Header line colors — set first cell to white to hide border\n",
    "header_line_colors = ['white', 'black', 'black']\n",
    "\n",
    "# Plotly Table\n",
    "fig = go.Figure(data=[go.Table(\n",
    "    columnwidth=[110, 195, 195], \n",
    "    header=dict(\n",
    "        values=header_values,\n",
    "        fill_color=header_fill_colors,\n",
    "        font=dict(color=header_font_colors, size=12),\n",
    "        align='center',\n",
    "        line=dict(color=header_font_colors, width=1)\n",
    "    ),\n",
    "    cells=dict(\n",
    "        values=[df[col] for col in df.columns],\n",
    "        fill_color=cell_fill_colors,\n",
    "        font=dict(color=cell_font_colors),\n",
    "        align='center',\n",
    "        line=dict(color='white', width=1)\n",
    "    )\n",
    ")])\n",
    "\n",
    "# Title\n",
    "fig.update_layout(\n",
    "    title_text=\"Predicted High-Impact Video Technologies by LLMs\",\n",
    "    title_x=0.5\n",
    ")\n",
    "\n",
    "#fig.write_image(\"high_impact_video_tech_llm_3_.png\", scale=2)\n"
   ]
  },
  {
   "cell_type": "code",
   "execution_count": 10,
   "id": "ee3f7dbc",
   "metadata": {},
   "outputs": [
    {
     "data": {
      "text/html": [
       "<div>\n",
       "<style scoped>\n",
       "    .dataframe tbody tr th:only-of-type {\n",
       "        vertical-align: middle;\n",
       "    }\n",
       "\n",
       "    .dataframe tbody tr th {\n",
       "        vertical-align: top;\n",
       "    }\n",
       "\n",
       "    .dataframe thead th {\n",
       "        text-align: right;\n",
       "    }\n",
       "</style>\n",
       "<table border=\"1\" class=\"dataframe\">\n",
       "  <thead>\n",
       "    <tr style=\"text-align: right;\">\n",
       "      <th></th>\n",
       "      <th>LLM</th>\n",
       "      <th>Expert Database (RAG)</th>\n",
       "      <th>Internal Knowledge</th>\n",
       "    </tr>\n",
       "  </thead>\n",
       "  <tbody>\n",
       "    <tr>\n",
       "      <th>0</th>\n",
       "      <td>deepseek-r1:8b</td>\n",
       "      <td>VR/360° video</td>\n",
       "      <td>AI-driven coding</td>\n",
       "    </tr>\n",
       "    <tr>\n",
       "      <th>1</th>\n",
       "      <td>gemma3:4b</td>\n",
       "      <td>AV1</td>\n",
       "      <td>8K</td>\n",
       "    </tr>\n",
       "    <tr>\n",
       "      <th>2</th>\n",
       "      <td>gpt-4o-mini</td>\n",
       "      <td>VVC</td>\n",
       "      <td>8K</td>\n",
       "    </tr>\n",
       "    <tr>\n",
       "      <th>3</th>\n",
       "      <td>llama3:8b</td>\n",
       "      <td>VVC</td>\n",
       "      <td>VVC</td>\n",
       "    </tr>\n",
       "    <tr>\n",
       "      <th>4</th>\n",
       "      <td>mistral:7b</td>\n",
       "      <td>HEVC</td>\n",
       "      <td>VVC</td>\n",
       "    </tr>\n",
       "    <tr>\n",
       "      <th>5</th>\n",
       "      <td>olmo2:7b</td>\n",
       "      <td>VVC</td>\n",
       "      <td>VVC</td>\n",
       "    </tr>\n",
       "    <tr>\n",
       "      <th>6</th>\n",
       "      <td>qwen3:8b</td>\n",
       "      <td>VVC</td>\n",
       "      <td>AI-driven coding</td>\n",
       "    </tr>\n",
       "  </tbody>\n",
       "</table>\n",
       "</div>"
      ],
      "text/plain": [
       "              LLM Expert Database (RAG) Internal Knowledge\n",
       "0  deepseek-r1:8b         VR/360° video   AI-driven coding\n",
       "1       gemma3:4b                   AV1                 8K\n",
       "2     gpt-4o-mini                   VVC                 8K\n",
       "3       llama3:8b                   VVC                VVC\n",
       "4      mistral:7b                  HEVC                VVC\n",
       "5        olmo2:7b                   VVC                VVC\n",
       "6        qwen3:8b                   VVC   AI-driven coding"
      ]
     },
     "execution_count": 10,
     "metadata": {},
     "output_type": "execute_result"
    }
   ],
   "source": [
    "import pandas as pd\n",
    "import matplotlib.pyplot as plt\n",
    "df = pd.DataFrame({\n",
    "    'LLM': ['deepseek-r1:8b', 'gemma3:4b', 'gpt-4o-mini', 'llama3:8b', 'mistral:7b', 'olmo2:7b', 'qwen3:8b'],\n",
    "    'Expert Database (RAG)': ['VR/360° video', 'AV1', 'VVC', 'VVC', 'HEVC', 'VVC', 'VVC'],\n",
    "    'Internal Knowledge': ['AI-driven coding', '8K', '8K', 'VVC', 'VVC', 'VVC', 'AI-driven coding']\n",
    "})\n",
    "df"
   ]
  },
  {
   "cell_type": "code",
   "execution_count": 11,
   "id": "28f0bcf6",
   "metadata": {},
   "outputs": [],
   "source": [
    "# Create a plot\n",
    "fig, ax = plt.subplots(figsize=(8, 2))  # Adjust size as needed\n",
    "ax.axis('off')\n",
    "table = ax.table(cellText=df.values, colLabels=df.columns, loc='center')\n",
    "table.auto_set_font_size(False)\n",
    "table.set_fontsize(10)\n",
    "table.scale(1, 1.5)  # Adjust for better spacing\n",
    "\n",
    "# Save as PNG\n",
    "plt.savefig(\"dataframe_table.png\", bbox_inches='tight', dpi=300)\n",
    "plt.close()"
   ]
  },
  {
   "cell_type": "code",
   "execution_count": 12,
   "id": "1be3dc40",
   "metadata": {},
   "outputs": [
    {
     "data": {
      "application/vnd.plotly.v1+json": {
       "config": {
        "plotlyServerURL": "https://plot.ly"
       },
       "data": [
        {
         "cells": {
          "align": "center",
          "fill": {
           "color": "white"
          },
          "line": {
           "color": "black",
           "width": 1
          },
          "values": [
           [
            "deepseek-r1:8b",
            "gemma3:4b",
            "gpt-4o-mini",
            "llama3:8b",
            "mistral:7b",
            "olmo2:7b",
            "qwen3:8b"
           ],
           [
            "VR/360° video",
            "AV1",
            "VVC",
            "VVC",
            "HEVC",
            "VVC",
            "VVC"
           ],
           [
            "AI-driven coding",
            "8K",
            "8K",
            "VVC",
            "VVC",
            "VVC",
            "AI-driven coding"
           ]
          ]
         },
         "header": {
          "align": "center",
          "fill": {
           "color": "#0077B5"
          },
          "font": {
           "color": "white",
           "size": 12
          },
          "line": {
           "color": "black",
           "width": 1
          },
          "values": [
           "LLM",
           "Expert Database (RAG)",
           "Internal Knowledge"
          ]
         },
         "type": "table"
        }
       ],
       "layout": {
        "template": {
         "data": {
          "bar": [
           {
            "error_x": {
             "color": "#2a3f5f"
            },
            "error_y": {
             "color": "#2a3f5f"
            },
            "marker": {
             "line": {
              "color": "#E5ECF6",
              "width": 0.5
             },
             "pattern": {
              "fillmode": "overlay",
              "size": 10,
              "solidity": 0.2
             }
            },
            "type": "bar"
           }
          ],
          "barpolar": [
           {
            "marker": {
             "line": {
              "color": "#E5ECF6",
              "width": 0.5
             },
             "pattern": {
              "fillmode": "overlay",
              "size": 10,
              "solidity": 0.2
             }
            },
            "type": "barpolar"
           }
          ],
          "carpet": [
           {
            "aaxis": {
             "endlinecolor": "#2a3f5f",
             "gridcolor": "white",
             "linecolor": "white",
             "minorgridcolor": "white",
             "startlinecolor": "#2a3f5f"
            },
            "baxis": {
             "endlinecolor": "#2a3f5f",
             "gridcolor": "white",
             "linecolor": "white",
             "minorgridcolor": "white",
             "startlinecolor": "#2a3f5f"
            },
            "type": "carpet"
           }
          ],
          "choropleth": [
           {
            "colorbar": {
             "outlinewidth": 0,
             "ticks": ""
            },
            "type": "choropleth"
           }
          ],
          "contour": [
           {
            "colorbar": {
             "outlinewidth": 0,
             "ticks": ""
            },
            "colorscale": [
             [
              0,
              "#0d0887"
             ],
             [
              0.1111111111111111,
              "#46039f"
             ],
             [
              0.2222222222222222,
              "#7201a8"
             ],
             [
              0.3333333333333333,
              "#9c179e"
             ],
             [
              0.4444444444444444,
              "#bd3786"
             ],
             [
              0.5555555555555556,
              "#d8576b"
             ],
             [
              0.6666666666666666,
              "#ed7953"
             ],
             [
              0.7777777777777778,
              "#fb9f3a"
             ],
             [
              0.8888888888888888,
              "#fdca26"
             ],
             [
              1,
              "#f0f921"
             ]
            ],
            "type": "contour"
           }
          ],
          "contourcarpet": [
           {
            "colorbar": {
             "outlinewidth": 0,
             "ticks": ""
            },
            "type": "contourcarpet"
           }
          ],
          "heatmap": [
           {
            "colorbar": {
             "outlinewidth": 0,
             "ticks": ""
            },
            "colorscale": [
             [
              0,
              "#0d0887"
             ],
             [
              0.1111111111111111,
              "#46039f"
             ],
             [
              0.2222222222222222,
              "#7201a8"
             ],
             [
              0.3333333333333333,
              "#9c179e"
             ],
             [
              0.4444444444444444,
              "#bd3786"
             ],
             [
              0.5555555555555556,
              "#d8576b"
             ],
             [
              0.6666666666666666,
              "#ed7953"
             ],
             [
              0.7777777777777778,
              "#fb9f3a"
             ],
             [
              0.8888888888888888,
              "#fdca26"
             ],
             [
              1,
              "#f0f921"
             ]
            ],
            "type": "heatmap"
           }
          ],
          "histogram": [
           {
            "marker": {
             "pattern": {
              "fillmode": "overlay",
              "size": 10,
              "solidity": 0.2
             }
            },
            "type": "histogram"
           }
          ],
          "histogram2d": [
           {
            "colorbar": {
             "outlinewidth": 0,
             "ticks": ""
            },
            "colorscale": [
             [
              0,
              "#0d0887"
             ],
             [
              0.1111111111111111,
              "#46039f"
             ],
             [
              0.2222222222222222,
              "#7201a8"
             ],
             [
              0.3333333333333333,
              "#9c179e"
             ],
             [
              0.4444444444444444,
              "#bd3786"
             ],
             [
              0.5555555555555556,
              "#d8576b"
             ],
             [
              0.6666666666666666,
              "#ed7953"
             ],
             [
              0.7777777777777778,
              "#fb9f3a"
             ],
             [
              0.8888888888888888,
              "#fdca26"
             ],
             [
              1,
              "#f0f921"
             ]
            ],
            "type": "histogram2d"
           }
          ],
          "histogram2dcontour": [
           {
            "colorbar": {
             "outlinewidth": 0,
             "ticks": ""
            },
            "colorscale": [
             [
              0,
              "#0d0887"
             ],
             [
              0.1111111111111111,
              "#46039f"
             ],
             [
              0.2222222222222222,
              "#7201a8"
             ],
             [
              0.3333333333333333,
              "#9c179e"
             ],
             [
              0.4444444444444444,
              "#bd3786"
             ],
             [
              0.5555555555555556,
              "#d8576b"
             ],
             [
              0.6666666666666666,
              "#ed7953"
             ],
             [
              0.7777777777777778,
              "#fb9f3a"
             ],
             [
              0.8888888888888888,
              "#fdca26"
             ],
             [
              1,
              "#f0f921"
             ]
            ],
            "type": "histogram2dcontour"
           }
          ],
          "mesh3d": [
           {
            "colorbar": {
             "outlinewidth": 0,
             "ticks": ""
            },
            "type": "mesh3d"
           }
          ],
          "parcoords": [
           {
            "line": {
             "colorbar": {
              "outlinewidth": 0,
              "ticks": ""
             }
            },
            "type": "parcoords"
           }
          ],
          "pie": [
           {
            "automargin": true,
            "type": "pie"
           }
          ],
          "scatter": [
           {
            "fillpattern": {
             "fillmode": "overlay",
             "size": 10,
             "solidity": 0.2
            },
            "type": "scatter"
           }
          ],
          "scatter3d": [
           {
            "line": {
             "colorbar": {
              "outlinewidth": 0,
              "ticks": ""
             }
            },
            "marker": {
             "colorbar": {
              "outlinewidth": 0,
              "ticks": ""
             }
            },
            "type": "scatter3d"
           }
          ],
          "scattercarpet": [
           {
            "marker": {
             "colorbar": {
              "outlinewidth": 0,
              "ticks": ""
             }
            },
            "type": "scattercarpet"
           }
          ],
          "scattergeo": [
           {
            "marker": {
             "colorbar": {
              "outlinewidth": 0,
              "ticks": ""
             }
            },
            "type": "scattergeo"
           }
          ],
          "scattergl": [
           {
            "marker": {
             "colorbar": {
              "outlinewidth": 0,
              "ticks": ""
             }
            },
            "type": "scattergl"
           }
          ],
          "scattermap": [
           {
            "marker": {
             "colorbar": {
              "outlinewidth": 0,
              "ticks": ""
             }
            },
            "type": "scattermap"
           }
          ],
          "scattermapbox": [
           {
            "marker": {
             "colorbar": {
              "outlinewidth": 0,
              "ticks": ""
             }
            },
            "type": "scattermapbox"
           }
          ],
          "scatterpolar": [
           {
            "marker": {
             "colorbar": {
              "outlinewidth": 0,
              "ticks": ""
             }
            },
            "type": "scatterpolar"
           }
          ],
          "scatterpolargl": [
           {
            "marker": {
             "colorbar": {
              "outlinewidth": 0,
              "ticks": ""
             }
            },
            "type": "scatterpolargl"
           }
          ],
          "scatterternary": [
           {
            "marker": {
             "colorbar": {
              "outlinewidth": 0,
              "ticks": ""
             }
            },
            "type": "scatterternary"
           }
          ],
          "surface": [
           {
            "colorbar": {
             "outlinewidth": 0,
             "ticks": ""
            },
            "colorscale": [
             [
              0,
              "#0d0887"
             ],
             [
              0.1111111111111111,
              "#46039f"
             ],
             [
              0.2222222222222222,
              "#7201a8"
             ],
             [
              0.3333333333333333,
              "#9c179e"
             ],
             [
              0.4444444444444444,
              "#bd3786"
             ],
             [
              0.5555555555555556,
              "#d8576b"
             ],
             [
              0.6666666666666666,
              "#ed7953"
             ],
             [
              0.7777777777777778,
              "#fb9f3a"
             ],
             [
              0.8888888888888888,
              "#fdca26"
             ],
             [
              1,
              "#f0f921"
             ]
            ],
            "type": "surface"
           }
          ],
          "table": [
           {
            "cells": {
             "fill": {
              "color": "#EBF0F8"
             },
             "line": {
              "color": "white"
             }
            },
            "header": {
             "fill": {
              "color": "#C8D4E3"
             },
             "line": {
              "color": "white"
             }
            },
            "type": "table"
           }
          ]
         },
         "layout": {
          "annotationdefaults": {
           "arrowcolor": "#2a3f5f",
           "arrowhead": 0,
           "arrowwidth": 1
          },
          "autotypenumbers": "strict",
          "coloraxis": {
           "colorbar": {
            "outlinewidth": 0,
            "ticks": ""
           }
          },
          "colorscale": {
           "diverging": [
            [
             0,
             "#8e0152"
            ],
            [
             0.1,
             "#c51b7d"
            ],
            [
             0.2,
             "#de77ae"
            ],
            [
             0.3,
             "#f1b6da"
            ],
            [
             0.4,
             "#fde0ef"
            ],
            [
             0.5,
             "#f7f7f7"
            ],
            [
             0.6,
             "#e6f5d0"
            ],
            [
             0.7,
             "#b8e186"
            ],
            [
             0.8,
             "#7fbc41"
            ],
            [
             0.9,
             "#4d9221"
            ],
            [
             1,
             "#276419"
            ]
           ],
           "sequential": [
            [
             0,
             "#0d0887"
            ],
            [
             0.1111111111111111,
             "#46039f"
            ],
            [
             0.2222222222222222,
             "#7201a8"
            ],
            [
             0.3333333333333333,
             "#9c179e"
            ],
            [
             0.4444444444444444,
             "#bd3786"
            ],
            [
             0.5555555555555556,
             "#d8576b"
            ],
            [
             0.6666666666666666,
             "#ed7953"
            ],
            [
             0.7777777777777778,
             "#fb9f3a"
            ],
            [
             0.8888888888888888,
             "#fdca26"
            ],
            [
             1,
             "#f0f921"
            ]
           ],
           "sequentialminus": [
            [
             0,
             "#0d0887"
            ],
            [
             0.1111111111111111,
             "#46039f"
            ],
            [
             0.2222222222222222,
             "#7201a8"
            ],
            [
             0.3333333333333333,
             "#9c179e"
            ],
            [
             0.4444444444444444,
             "#bd3786"
            ],
            [
             0.5555555555555556,
             "#d8576b"
            ],
            [
             0.6666666666666666,
             "#ed7953"
            ],
            [
             0.7777777777777778,
             "#fb9f3a"
            ],
            [
             0.8888888888888888,
             "#fdca26"
            ],
            [
             1,
             "#f0f921"
            ]
           ]
          },
          "colorway": [
           "#636efa",
           "#EF553B",
           "#00cc96",
           "#ab63fa",
           "#FFA15A",
           "#19d3f3",
           "#FF6692",
           "#B6E880",
           "#FF97FF",
           "#FECB52"
          ],
          "font": {
           "color": "#2a3f5f"
          },
          "geo": {
           "bgcolor": "white",
           "lakecolor": "white",
           "landcolor": "#E5ECF6",
           "showlakes": true,
           "showland": true,
           "subunitcolor": "white"
          },
          "hoverlabel": {
           "align": "left"
          },
          "hovermode": "closest",
          "mapbox": {
           "style": "light"
          },
          "paper_bgcolor": "white",
          "plot_bgcolor": "#E5ECF6",
          "polar": {
           "angularaxis": {
            "gridcolor": "white",
            "linecolor": "white",
            "ticks": ""
           },
           "bgcolor": "#E5ECF6",
           "radialaxis": {
            "gridcolor": "white",
            "linecolor": "white",
            "ticks": ""
           }
          },
          "scene": {
           "xaxis": {
            "backgroundcolor": "#E5ECF6",
            "gridcolor": "white",
            "gridwidth": 2,
            "linecolor": "white",
            "showbackground": true,
            "ticks": "",
            "zerolinecolor": "white"
           },
           "yaxis": {
            "backgroundcolor": "#E5ECF6",
            "gridcolor": "white",
            "gridwidth": 2,
            "linecolor": "white",
            "showbackground": true,
            "ticks": "",
            "zerolinecolor": "white"
           },
           "zaxis": {
            "backgroundcolor": "#E5ECF6",
            "gridcolor": "white",
            "gridwidth": 2,
            "linecolor": "white",
            "showbackground": true,
            "ticks": "",
            "zerolinecolor": "white"
           }
          },
          "shapedefaults": {
           "line": {
            "color": "#2a3f5f"
           }
          },
          "ternary": {
           "aaxis": {
            "gridcolor": "white",
            "linecolor": "white",
            "ticks": ""
           },
           "baxis": {
            "gridcolor": "white",
            "linecolor": "white",
            "ticks": ""
           },
           "bgcolor": "#E5ECF6",
           "caxis": {
            "gridcolor": "white",
            "linecolor": "white",
            "ticks": ""
           }
          },
          "title": {
           "x": 0.05
          },
          "xaxis": {
           "automargin": true,
           "gridcolor": "white",
           "linecolor": "white",
           "ticks": "",
           "title": {
            "standoff": 15
           },
           "zerolinecolor": "white",
           "zerolinewidth": 2
          },
          "yaxis": {
           "automargin": true,
           "gridcolor": "white",
           "linecolor": "white",
           "ticks": "",
           "title": {
            "standoff": 15
           },
           "zerolinecolor": "white",
           "zerolinewidth": 2
          }
         }
        },
        "title": {
         "text": "Predicted High-Impact Video Technologies by LLMs",
         "x": 0.5
        }
       }
      }
     },
     "metadata": {},
     "output_type": "display_data"
    }
   ],
   "source": [
    "import pandas as pd\n",
    "import plotly.graph_objects as go\n",
    "\n",
    "fig = go.Figure(data=[go.Table(\n",
    "    header=dict(values=list(df.columns),\n",
    "                fill_color='#0077B5',\n",
    "                align='center',\n",
    "                line=dict(color='black', width=1),\n",
    "                font=dict(color='white', size=12)\n",
    "                ),\n",
    "    cells=dict(values=[df[col] for col in df.columns],\n",
    "               fill_color='white',\n",
    "               align='center',\n",
    "               line=dict(color='black', width=1))\n",
    "               )\n",
    "])\n",
    "\n",
    "# Add a title to the figure\n",
    "fig.update_layout(\n",
    "    title_text=\"Predicted High-Impact Video Technologies by LLMs\",  # Replace with your desired title\n",
    "    title_x=0.5  # Center the title\n",
    ")\n",
    "\n",
    "#fig.write_image(\"high_impact_video_tech_llm_.png\", scale=2)"
   ]
  },
  {
   "cell_type": "code",
   "execution_count": null,
   "id": "473c6072",
   "metadata": {},
   "outputs": [],
   "source": []
  }
 ],
 "metadata": {
  "kernelspec": {
   "display_name": "Python 3",
   "language": "python",
   "name": "python3"
  },
  "language_info": {
   "codemirror_mode": {
    "name": "ipython",
    "version": 3
   },
   "file_extension": ".py",
   "mimetype": "text/x-python",
   "name": "python",
   "nbconvert_exporter": "python",
   "pygments_lexer": "ipython3",
   "version": "3.11.11"
  }
 },
 "nbformat": 4,
 "nbformat_minor": 5
}
